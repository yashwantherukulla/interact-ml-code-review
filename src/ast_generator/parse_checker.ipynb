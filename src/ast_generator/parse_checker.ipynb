{
  "cells": [
    {
      "cell_type": "code",
      "execution_count": 1,
      "metadata": {
        "colab": {
          "base_uri": "https://localhost:8080/"
        },
        "id": "iXpoMTSXqoyS",
        "outputId": "cd297f35-b170-43bb-ecf5-da92b53bc606"
      },
      "outputs": [
        {
          "name": "stdout",
          "output_type": "stream",
          "text": [
            "Defaulting to user installation because normal site-packages is not writeable\n",
            "Collecting python-magic\n",
            "  Downloading python_magic-0.4.27-py2.py3-none-any.whl (13 kB)\n",
            "Collecting chardet\n",
            "  Downloading chardet-5.2.0-py3-none-any.whl (199 kB)\n",
            "\u001b[2K     \u001b[90m━━━━━━━━━━━━━━━━━━━━━━━━━━━━━━━━━━━━━\u001b[0m \u001b[32m199.4/199.4 KB\u001b[0m \u001b[31m679.7 kB/s\u001b[0m eta \u001b[36m0:00:00\u001b[0m00:01\u001b[0m00:01\u001b[0m\n",
            "\u001b[?25hInstalling collected packages: python-magic, chardet\n",
            "Successfully installed chardet-5.2.0 python-magic-0.4.27\n"
          ]
        }
      ],
      "source": [
        "!pip install python-magic chardet"
      ]
    },
    {
      "cell_type": "code",
      "execution_count": 55,
      "metadata": {
        "colab": {
          "base_uri": "https://localhost:8080/"
        },
        "id": "fFsNmwx0qlXJ",
        "outputId": "0b74c7de-b936-4c71-c70a-d5d20cf332f5"
      },
      "outputs": [
        {
          "name": "stdout",
          "output_type": "stream",
          "text": [
            "application/json\n",
            "The file /content/drive/MyDrive/Colab Notebooks/News_Category_Dataset_v3.json likely contains parsable code.\n"
          ]
        }
      ],
      "source": [
        "import os\n",
        "import magic\n",
        "import chardet\n",
        "\n",
        "def isParsable(filePath):\n",
        "    try:\n",
        "        if not os.path.exists(filePath):\n",
        "            raise FileNotFoundError(f\"File not found: {filePath}\")\n",
        "\n",
        "        mime = magic.Magic(mime=True)\n",
        "        fileType = mime.from_file(filePath)\n",
        "        print(fileType)\n",
        "\n",
        "        codeMimeTypes = ['text/x-script.python', 'text/x-python', 'text/x-c', 'text/x-c++', 'text/x-java-source', 'text/javascript',\n",
        "                           'application/javascript', 'text/x-php', 'text/x-ruby', 'text/x-shellscript', 'application/x-ipynb+json',\n",
        "                         'application/json', 'text/x-java']\n",
        "\n",
        "        if fileType not in codeMimeTypes:\n",
        "            return False\n",
        "\n",
        "        with open(filePath, 'rb') as file:\n",
        "            content = file.read(4096)\n",
        "        result = chardet.detect(content)\n",
        "        encoding = result['encoding']\n",
        "\n",
        "        decodedContent = content.decode(encoding)\n",
        "\n",
        "        codeIndicators = ['import ', 'class ', 'def ', 'function', 'var ', 'let ', 'const ', 'if ', 'for ', 'while ', '#include', 'public:',\n",
        "                           'private:', '{', '}', '#!/usr/bin/', '<?php', '<?=', 'package ', 'using namespace', 'import ']\n",
        "\n",
        "        return any(indicator in decodedContent for indicator in codeIndicators)\n",
        "\n",
        "    except FileNotFoundError as e:\n",
        "        print(f\"File error: {e}\")\n",
        "        return False\n",
        "    except Exception as e:\n",
        "        print(f\"An unexpected error occurred: {e}\")\n",
        "        return False\n",
        "\n",
        "#to do: get the files from the fetcher into here\n",
        "filePath = '/content/drive/MyDrive/Colab Notebooks/News_Category_Dataset_v3.json'\n",
        "if isParsable(filePath):\n",
        "    print(f\"The file {filePath} likely contains parsable code.\")\n",
        "else:\n",
        "    print(f\"The file {filePath} does not appear to contain parsable code.\")"
      ]
    }
  ],
  "metadata": {
    "colab": {
      "provenance": []
    },
    "kernelspec": {
      "display_name": "Python 3",
      "name": "python3"
    },
    "language_info": {
      "codemirror_mode": {
        "name": "ipython",
        "version": 3
      },
      "file_extension": ".py",
      "mimetype": "text/x-python",
      "name": "python",
      "nbconvert_exporter": "python",
      "pygments_lexer": "ipython3",
      "version": "3.10.12"
    }
  },
  "nbformat": 4,
  "nbformat_minor": 0
}
